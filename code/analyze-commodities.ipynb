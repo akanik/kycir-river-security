{
 "cells": [
  {
   "cell_type": "code",
   "execution_count": 2,
   "metadata": {},
   "outputs": [],
   "source": [
    "import pandas as pd"
   ]
  },
  {
   "cell_type": "code",
   "execution_count": 7,
   "metadata": {},
   "outputs": [],
   "source": [
    "commodities = pd.read_csv('../data/commodity/scraped-commodities.csv', dtype={'monthyear':str,\n",
    "                                                                              'lock_id':str,\n",
    "                                                                              'comm_code':str})\n",
    "lock_info = pd.read_csv('../data/commodity/lock_codes.csv', dtype={'Lock No':str})\n",
    "lock_info = lock_info[lock_info['River Code'] == 'OH']"
   ]
  },
  {
   "cell_type": "code",
   "execution_count": 8,
   "metadata": {},
   "outputs": [
    {
     "name": "stdout",
     "output_type": "stream",
     "text": [
      "    River Code  River Name Lock No                       Lock Name\n",
      "134         OH  OHIO RIVER      21        BELLEVILLE LOCKS AND DAM\n",
      "135         OH  OHIO RIVER      75          CANNELTON LOCK AND DAM\n",
      "136         OH  OHIO RIVER      25  CAPT ANT MELDAHL LOCKS AND DAM\n",
      "137         OH  OHIO RIVER      02          DASHIELDS LOCK AND DAM\n",
      "138         OH  OHIO RIVER      01           EMSWORTH LOCK AND DAM\n",
      "139         OH  OHIO RIVER      24           GREENUP LOCKS AND DAM\n",
      "140         OH  OHIO RIVER      71          HANNIBAL LOCKS AND DAM\n",
      "141         OH  OHIO RIVER      77        JOHN T. MYERS LOCK & DAM\n",
      "142         OH  OHIO RIVER      41          MARKLAND LOCKS AND DAM\n",
      "143         OH  OHIO RIVER      42          MCALPINE LOCKS AND DAM\n",
      "144         OH  OHIO RIVER      03         MONTGOMERY LOCK AND DAM\n",
      "145         OH  OHIO RIVER      04     NEW CUMBERLAND LOCK AND DAM\n",
      "146         OH  OHIO RIVER      76           NEWBURGH LOCK AND DAM\n",
      "147         OH  OHIO RIVER      79           OLMSTED LOCKS AND DAM\n",
      "148         OH  OHIO RIVER      05        PIKE ISLAND LOCK AND DAM\n",
      "149         OH  OHIO RIVER      22            RACINE LOCKS AND DAM\n",
      "150         OH  OHIO RIVER      26    ROBERT C. BYRD LOCKS AND DAM\n",
      "151         OH  OHIO RIVER      78          SMITHLAND LOCK AND DAM\n",
      "152         OH  OHIO RIVER      72     WILLOW ISLAND LOCKS AND DAM\n"
     ]
    }
   ],
   "source": [
    "print(lock_info)"
   ]
  },
  {
   "cell_type": "code",
   "execution_count": 6,
   "metadata": {},
   "outputs": [
    {
     "name": "stdout",
     "output_type": "stream",
     "text": [
      "     monthyear lock_id comm_code                                comm_desc  \\\n",
      "1462    052019      22        10                   Coal, Lignite And Coke   \n",
      "357     102018      22        10                   Coal, Lignite And Coke   \n",
      "49      082018      22        10                   Coal, Lignite And Coke   \n",
      "1514    052019      71        10                   Coal, Lignite And Coke   \n",
      "1141    032019      22        10                   Coal, Lignite And Coke   \n",
      "1454    052019      21        10                   Coal, Lignite And Coke   \n",
      "832     012019      22        10                   Coal, Lignite And Coke   \n",
      "348     102018      21        10                   Coal, Lignite And Coke   \n",
      "411     102018      71        10                   Coal, Lignite And Coke   \n",
      "1132    032019      21        10                   Coal, Lignite And Coke   \n",
      "41      082018      21        10                   Coal, Lignite And Coke   \n",
      "99      082018      71        10                   Coal, Lignite And Coke   \n",
      "884     012019      71        10                   Coal, Lignite And Coke   \n",
      "1303    042019      22        10                   Coal, Lignite And Coke   \n",
      "420     102018      72        10                   Coal, Lignite And Coke   \n",
      "1522    052019      72        10                   Coal, Lignite And Coke   \n",
      "2042    082019      79        40  Crude Materials, Inedible, except Fuels   \n",
      "594     112018      76        10                   Coal, Lignite And Coke   \n",
      "1939    082019      22        10                   Coal, Lignite And Coke   \n",
      "824     012019      21        10                   Coal, Lignite And Coke   \n",
      "1195    032019      71        10                   Coal, Lignite And Coke   \n",
      "676     122018      22        10                   Coal, Lignite And Coke   \n",
      "519     112018      22        10                   Coal, Lignite And Coke   \n",
      "303     092018      79        40  Crude Materials, Inedible, except Fuels   \n",
      "107     082018      72        10                   Coal, Lignite And Coke   \n",
      "892     012019      72        10                   Coal, Lignite And Coke   \n",
      "1569    052019      79        40  Crude Materials, Inedible, except Fuels   \n",
      "2014    082019      76        10                   Coal, Lignite And Coke   \n",
      "1731    062019      79        40  Crude Materials, Inedible, except Fuels   \n",
      "1621    062019      22        10                   Coal, Lignite And Coke   \n",
      "2095    092019      22        10                   Coal, Lignite And Coke   \n",
      "1930    082019      21        10                   Coal, Lignite And Coke   \n",
      "1988    082019      71        10                   Coal, Lignite And Coke   \n",
      "778     122018      79        40  Crude Materials, Inedible, except Fuels   \n",
      "438     102018      76        10                   Coal, Lignite And Coke   \n",
      "1355    042019      71        10                   Coal, Lignite And Coke   \n",
      "1204    032019      72        10                   Coal, Lignite And Coke   \n",
      "1222    032019      76        10                   Coal, Lignite And Coke   \n",
      "1295    042019      21        10                   Coal, Lignite And Coke   \n",
      "466     102018      79        40  Crude Materials, Inedible, except Fuels   \n",
      "568     112018      71        10                   Coal, Lignite And Coke   \n",
      "1213    032019      75        10                   Coal, Lignite And Coke   \n",
      "2167    092019      76        10                   Coal, Lignite And Coke   \n",
      "1835    072019      71        10                   Coal, Lignite And Coke   \n",
      "667     122018      21        10                   Coal, Lignite And Coke   \n",
      "124     082018      76        10                   Coal, Lignite And Coke   \n",
      "1410    042019      79        40  Crude Materials, Inedible, except Fuels   \n",
      "2087    092019      21        10                   Coal, Lignite And Coke   \n",
      "1675    062019      71        10                   Coal, Lignite And Coke   \n",
      "1186    032019      42        10                   Coal, Lignite And Coke   \n",
      "\n",
      "      up_tons  down_tons  total_tons  \n",
      "1462   617.00    2462.99     3079.99  \n",
      "357    702.11    2374.27     3076.38  \n",
      "49     633.70    2405.76     3039.46  \n",
      "1514   592.47    2248.55     2841.02  \n",
      "1141   629.37    2188.29     2817.66  \n",
      "1454   618.71    2186.33     2805.04  \n",
      "832    600.17    2197.24     2797.41  \n",
      "348    702.14    2075.20     2777.34  \n",
      "411    660.16    2022.63     2682.79  \n",
      "1132   629.44    2049.51     2678.95  \n",
      "41     549.56    2094.50     2644.05  \n",
      "99     577.72    2053.41     2631.14  \n",
      "884    628.50    2000.32     2628.82  \n",
      "1303   413.70    2176.92     2590.61  \n",
      "420    682.18    1906.88     2589.06  \n",
      "1522   567.32    1979.53     2546.85  \n",
      "2042   962.45    1580.00     2542.45  \n",
      "594   2132.60     371.00     2503.60  \n",
      "1939   559.51    1938.46     2497.97  \n",
      "824    585.01    1911.58     2496.58  \n",
      "1195   578.44    1915.98     2494.42  \n",
      "676    542.77    1933.09     2475.86  \n",
      "519    446.43    2016.06     2462.49  \n",
      "303    898.95    1511.85     2410.80  \n",
      "107    538.50    1864.54     2403.03  \n",
      "892    625.63    1759.83     2385.46  \n",
      "1569   963.55    1419.63     2383.18  \n",
      "2014  2100.33     280.43     2380.76  \n",
      "1731   895.95    1476.57     2372.52  \n",
      "1621   524.41    1847.05     2371.46  \n",
      "2095   457.13    1890.97     2348.10  \n",
      "1930   558.80    1776.33     2335.13  \n",
      "1988   529.59    1793.47     2323.05  \n",
      "778   1126.80    1185.00     2311.80  \n",
      "438   1926.76     384.39     2311.15  \n",
      "1355   409.97    1897.21     2307.18  \n",
      "1204   584.41    1721.72     2306.12  \n",
      "1222  1994.75     303.90     2298.65  \n",
      "1295   394.29    1897.90     2292.19  \n",
      "466    866.40    1419.87     2286.27  \n",
      "568    533.37    1733.87     2267.23  \n",
      "1213  1973.08     284.85     2257.92  \n",
      "2167  2038.70     215.42     2254.12  \n",
      "1835   552.57    1697.51     2250.08  \n",
      "667    539.22    1701.76     2240.98  \n",
      "124   1864.10     369.81     2233.91  \n",
      "1410  1094.00    1121.76     2215.76  \n",
      "2087   432.72    1780.54     2213.25  \n",
      "1675   560.74    1643.50     2204.24  \n",
      "1186  1890.48     312.65     2203.12  \n"
     ]
    }
   ],
   "source": [
    "print(commodities.sort_values('total_tons',ascending=False).head(50))"
   ]
  },
  {
   "cell_type": "code",
   "execution_count": null,
   "metadata": {},
   "outputs": [],
   "source": []
  }
 ],
 "metadata": {
  "kernelspec": {
   "display_name": "Python 3",
   "language": "python",
   "name": "python3"
  },
  "language_info": {
   "codemirror_mode": {
    "name": "ipython",
    "version": 3
   },
   "file_extension": ".py",
   "mimetype": "text/x-python",
   "name": "python",
   "nbconvert_exporter": "python",
   "pygments_lexer": "ipython3",
   "version": "3.7.4"
  }
 },
 "nbformat": 4,
 "nbformat_minor": 4
}
