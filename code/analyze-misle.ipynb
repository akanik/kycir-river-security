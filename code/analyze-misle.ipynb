{
 "cells": [
  {
   "cell_type": "code",
   "execution_count": 51,
   "metadata": {},
   "outputs": [],
   "source": [
    "import pandas as pd\n",
    "import numpy as np\n",
    "\n",
    "pd.set_option('display.max_columns', None)\n",
    "pd.set_option('display.max_rows', None)\n",
    "pd.set_option('display.max_colwidth', 50)"
   ]
  },
  {
   "cell_type": "code",
   "execution_count": 19,
   "metadata": {},
   "outputs": [],
   "source": [
    "## online db\n",
    "# https://cgmix.uscg.mil/IIR/IIRSearch.aspx\n",
    "\n",
    "## data files\n",
    "enforce_data = pd.read_excel('../data/misle/MISLE Enforcement Activities DT.xlsx')\n",
    "fac_data = pd.read_excel('../data/misle/MISLE Facility Activities DT.xlsx')\n",
    "vessel_data = pd.read_excel('../data/misle/MISLE Vessel Activities DT.xlsx')\n",
    "incident_data = pd.read_excel('../data/misle/MISLE Incident Investigations DT.xlsx')\n",
    "#scraped from incident_data.activity_id column values\n",
    "scraped_briefs_data = pd.read_csv('../data/misle/scrape/misle-scraped-brief.csv')"
   ]
  },
  {
   "cell_type": "markdown",
   "metadata": {},
   "source": [
    "Let's figure out which `incident_data.activity_id` values didn't fetch brief data. Then we can try to manually enter these to see if they in fact don't have briefs."
   ]
  },
  {
   "cell_type": "code",
   "execution_count": 20,
   "metadata": {},
   "outputs": [],
   "source": [
    "incident_activity_list = incident_data['Activity ID'].tolist()\n",
    "scraped_activity_list = scraped_briefs_data.activity_id.tolist()\n",
    "\n",
    "not_scraped = []\n",
    "for activity_id in incident_activity_list:\n",
    "    if activity_id not in scraped_activity_list:\n",
    "        not_scraped.append(activity_id)"
   ]
  },
  {
   "cell_type": "code",
   "execution_count": 21,
   "metadata": {},
   "outputs": [
    {
     "data": {
      "text/plain": [
       "1098"
      ]
     },
     "execution_count": 21,
     "metadata": {},
     "output_type": "execute_result"
    }
   ],
   "source": [
    "len(not_scraped)"
   ]
  },
  {
   "cell_type": "markdown",
   "metadata": {},
   "source": [
    "In the process of doing a random sample check, I found that several `activity_ids` were present in the online interface, with an attached brief that could have been scraped. So I'm going to have to try these ones that didn't resolve again.\n",
    "\n",
    "Randomly selected activity_ids that did resolve when checked manually:\n",
    "- 3702509\n",
    "- 3691634\n",
    "- 4548573\n",
    "\n",
    "------\n",
    "\n",
    "After rerunning the `activity_ids` that did not resolve on the first attempt, another 47 records were scraped. A subsequent random check of the second round `activity_ids` that did not resolve returned no records that resolved manually."
   ]
  },
  {
   "cell_type": "code",
   "execution_count": 12,
   "metadata": {},
   "outputs": [
    {
     "data": {
      "text/html": [
       "<div>\n",
       "<style scoped>\n",
       "    .dataframe tbody tr th:only-of-type {\n",
       "        vertical-align: middle;\n",
       "    }\n",
       "\n",
       "    .dataframe tbody tr th {\n",
       "        vertical-align: top;\n",
       "    }\n",
       "\n",
       "    .dataframe thead th {\n",
       "        text-align: right;\n",
       "    }\n",
       "</style>\n",
       "<table border=\"1\" class=\"dataframe\">\n",
       "  <thead>\n",
       "    <tr style=\"text-align: right;\">\n",
       "      <th></th>\n",
       "      <th>Case ID</th>\n",
       "      <th>Activity ID</th>\n",
       "      <th>MISLE Enforcement Activity ID</th>\n",
       "      <th>Activity Start Date</th>\n",
       "      <th>Originating Department</th>\n",
       "      <th>Owner Department</th>\n",
       "      <th>Controlling Department</th>\n",
       "      <th>Enforcement Activity Type</th>\n",
       "      <th>Party Class</th>\n",
       "      <th>Party Role</th>\n",
       "      <th>Penalty Amount Imposed</th>\n",
       "      <th>Penalty Amount Recommended</th>\n",
       "      <th>Probationary Period Months Imposed</th>\n",
       "      <th>Probationary Period Months Recommended</th>\n",
       "      <th>Probationary Suspension Months Imposed</th>\n",
       "      <th>Probationary Suspension Months Recommended</th>\n",
       "      <th>Outright Suspension Months Imposed</th>\n",
       "      <th>Outright Suspension Months Recommended</th>\n",
       "    </tr>\n",
       "  </thead>\n",
       "  <tbody>\n",
       "    <tr>\n",
       "      <td>0</td>\n",
       "      <td>486041.0</td>\n",
       "      <td>3658917</td>\n",
       "      <td>3658917</td>\n",
       "      <td>2010-01-05</td>\n",
       "      <td>MSU HUNTINGTON (007767)</td>\n",
       "      <td>MSU HUNTINGTON (007767)</td>\n",
       "      <td>MSU HUNTINGTON (007767)</td>\n",
       "      <td>Warning (Civil Penalty)</td>\n",
       "      <td>Organization</td>\n",
       "      <td>UNSPECIFIED</td>\n",
       "      <td>0</td>\n",
       "      <td>0</td>\n",
       "      <td>0</td>\n",
       "      <td>0</td>\n",
       "      <td>0</td>\n",
       "      <td>0</td>\n",
       "      <td>0</td>\n",
       "      <td>0</td>\n",
       "    </tr>\n",
       "    <tr>\n",
       "      <td>1</td>\n",
       "      <td>471472.0</td>\n",
       "      <td>3662189</td>\n",
       "      <td>3662189</td>\n",
       "      <td>2010-01-11</td>\n",
       "      <td>MSU HUNTINGTON (007767)</td>\n",
       "      <td>MSU HUNTINGTON (007767)</td>\n",
       "      <td>CG HEARING OFFICE (000809)</td>\n",
       "      <td>Administrative Civil Penalty (Class I)</td>\n",
       "      <td>Organization</td>\n",
       "      <td>UNSPECIFIED</td>\n",
       "      <td>3000</td>\n",
       "      <td>5000</td>\n",
       "      <td>0</td>\n",
       "      <td>0</td>\n",
       "      <td>0</td>\n",
       "      <td>0</td>\n",
       "      <td>0</td>\n",
       "      <td>0</td>\n",
       "    </tr>\n",
       "    <tr>\n",
       "      <td>2</td>\n",
       "      <td>486168.0</td>\n",
       "      <td>3663897</td>\n",
       "      <td>3663897</td>\n",
       "      <td>2010-01-14</td>\n",
       "      <td>MSU PADUCAH (007766)</td>\n",
       "      <td>MSU PADUCAH (007766)</td>\n",
       "      <td>MSU PADUCAH (007766)</td>\n",
       "      <td>Suspension and Revocation</td>\n",
       "      <td>Person</td>\n",
       "      <td>Subject of Investigation</td>\n",
       "      <td>0</td>\n",
       "      <td>0</td>\n",
       "      <td>0</td>\n",
       "      <td>0</td>\n",
       "      <td>0</td>\n",
       "      <td>0</td>\n",
       "      <td>0</td>\n",
       "      <td>0</td>\n",
       "    </tr>\n",
       "    <tr>\n",
       "      <td>3</td>\n",
       "      <td>486186.0</td>\n",
       "      <td>3667584</td>\n",
       "      <td>3667584</td>\n",
       "      <td>2010-01-21</td>\n",
       "      <td>MSU PADUCAH (007766)</td>\n",
       "      <td>MSU PADUCAH (007766)</td>\n",
       "      <td>MSU PADUCAH (007766)</td>\n",
       "      <td>Notice of Violation (NOV)</td>\n",
       "      <td>Organization</td>\n",
       "      <td>UNSPECIFIED</td>\n",
       "      <td>0</td>\n",
       "      <td>500</td>\n",
       "      <td>0</td>\n",
       "      <td>0</td>\n",
       "      <td>0</td>\n",
       "      <td>0</td>\n",
       "      <td>0</td>\n",
       "      <td>0</td>\n",
       "    </tr>\n",
       "    <tr>\n",
       "      <td>4</td>\n",
       "      <td>486748.0</td>\n",
       "      <td>3670688</td>\n",
       "      <td>3670688</td>\n",
       "      <td>2010-01-27</td>\n",
       "      <td>MSU HUNTINGTON (007767)</td>\n",
       "      <td>MSU HUNTINGTON (007767)</td>\n",
       "      <td>MSU HUNTINGTON (007767)</td>\n",
       "      <td>Notice of Violation (NOV)</td>\n",
       "      <td>Organization</td>\n",
       "      <td>UNSPECIFIED</td>\n",
       "      <td>500</td>\n",
       "      <td>0</td>\n",
       "      <td>0</td>\n",
       "      <td>0</td>\n",
       "      <td>0</td>\n",
       "      <td>0</td>\n",
       "      <td>0</td>\n",
       "      <td>0</td>\n",
       "    </tr>\n",
       "  </tbody>\n",
       "</table>\n",
       "</div>"
      ],
      "text/plain": [
       "    Case ID  Activity ID  MISLE Enforcement Activity ID Activity Start Date  \\\n",
       "0  486041.0      3658917                        3658917          2010-01-05   \n",
       "1  471472.0      3662189                        3662189          2010-01-11   \n",
       "2  486168.0      3663897                        3663897          2010-01-14   \n",
       "3  486186.0      3667584                        3667584          2010-01-21   \n",
       "4  486748.0      3670688                        3670688          2010-01-27   \n",
       "\n",
       "    Originating Department         Owner Department  \\\n",
       "0  MSU HUNTINGTON (007767)  MSU HUNTINGTON (007767)   \n",
       "1  MSU HUNTINGTON (007767)  MSU HUNTINGTON (007767)   \n",
       "2     MSU PADUCAH (007766)     MSU PADUCAH (007766)   \n",
       "3     MSU PADUCAH (007766)     MSU PADUCAH (007766)   \n",
       "4  MSU HUNTINGTON (007767)  MSU HUNTINGTON (007767)   \n",
       "\n",
       "       Controlling Department               Enforcement Activity Type  \\\n",
       "0     MSU HUNTINGTON (007767)                 Warning (Civil Penalty)   \n",
       "1  CG HEARING OFFICE (000809)  Administrative Civil Penalty (Class I)   \n",
       "2        MSU PADUCAH (007766)               Suspension and Revocation   \n",
       "3        MSU PADUCAH (007766)               Notice of Violation (NOV)   \n",
       "4     MSU HUNTINGTON (007767)               Notice of Violation (NOV)   \n",
       "\n",
       "    Party Class                Party Role  Penalty Amount Imposed  \\\n",
       "0  Organization               UNSPECIFIED                       0   \n",
       "1  Organization               UNSPECIFIED                    3000   \n",
       "2        Person  Subject of Investigation                       0   \n",
       "3  Organization               UNSPECIFIED                       0   \n",
       "4  Organization               UNSPECIFIED                     500   \n",
       "\n",
       "   Penalty Amount Recommended  Probationary Period Months Imposed  \\\n",
       "0                           0                                   0   \n",
       "1                        5000                                   0   \n",
       "2                           0                                   0   \n",
       "3                         500                                   0   \n",
       "4                           0                                   0   \n",
       "\n",
       "   Probationary Period Months Recommended  \\\n",
       "0                                       0   \n",
       "1                                       0   \n",
       "2                                       0   \n",
       "3                                       0   \n",
       "4                                       0   \n",
       "\n",
       "   Probationary Suspension Months Imposed  \\\n",
       "0                                       0   \n",
       "1                                       0   \n",
       "2                                       0   \n",
       "3                                       0   \n",
       "4                                       0   \n",
       "\n",
       "   Probationary Suspension Months Recommended  \\\n",
       "0                                           0   \n",
       "1                                           0   \n",
       "2                                           0   \n",
       "3                                           0   \n",
       "4                                           0   \n",
       "\n",
       "   Outright Suspension Months Imposed  Outright Suspension Months Recommended  \n",
       "0                                   0                                       0  \n",
       "1                                   0                                       0  \n",
       "2                                   0                                       0  \n",
       "3                                   0                                       0  \n",
       "4                                   0                                       0  "
      ]
     },
     "execution_count": 12,
     "metadata": {},
     "output_type": "execute_result"
    }
   ],
   "source": [
    "enforce_data.head()"
   ]
  },
  {
   "cell_type": "code",
   "execution_count": 13,
   "metadata": {},
   "outputs": [
    {
     "data": {
      "text/html": [
       "<div>\n",
       "<style scoped>\n",
       "    .dataframe tbody tr th:only-of-type {\n",
       "        vertical-align: middle;\n",
       "    }\n",
       "\n",
       "    .dataframe tbody tr th {\n",
       "        vertical-align: top;\n",
       "    }\n",
       "\n",
       "    .dataframe thead th {\n",
       "        text-align: right;\n",
       "    }\n",
       "</style>\n",
       "<table border=\"1\" class=\"dataframe\">\n",
       "  <thead>\n",
       "    <tr style=\"text-align: right;\">\n",
       "      <th></th>\n",
       "      <th>Activity ID</th>\n",
       "      <th>Activity Start Date</th>\n",
       "      <th>Originating Department</th>\n",
       "      <th>Activity Type</th>\n",
       "      <th>Facility Name</th>\n",
       "      <th>Primary ID</th>\n",
       "      <th>Primary ID Type</th>\n",
       "      <th>Facility Type</th>\n",
       "      <th>Facility Address</th>\n",
       "      <th>City</th>\n",
       "      <th>State (Address)</th>\n",
       "      <th>Postal Code</th>\n",
       "      <th>Country</th>\n",
       "      <th>Facility Latitude</th>\n",
       "      <th>Facility Longitude</th>\n",
       "      <th>State (Physical Location)</th>\n",
       "    </tr>\n",
       "  </thead>\n",
       "  <tbody>\n",
       "    <tr>\n",
       "      <td>0</td>\n",
       "      <td>3658288</td>\n",
       "      <td>2010-01-04</td>\n",
       "      <td>MSU PITTSBURGH (007764)</td>\n",
       "      <td>Facility Inspection</td>\n",
       "      <td>Neville Chemical Company</td>\n",
       "      <td>PITMS422</td>\n",
       "      <td>Unique Id</td>\n",
       "      <td>Waterfront Facility</td>\n",
       "      <td>2800 Neville Road</td>\n",
       "      <td>Pittsburgh</td>\n",
       "      <td>PA</td>\n",
       "      <td>15225</td>\n",
       "      <td>US</td>\n",
       "      <td>40.505700</td>\n",
       "      <td>-80.102710</td>\n",
       "      <td>PA</td>\n",
       "    </tr>\n",
       "    <tr>\n",
       "      <td>1</td>\n",
       "      <td>3658584</td>\n",
       "      <td>2010-01-04</td>\n",
       "      <td>MSU PITTSBURGH (007764)</td>\n",
       "      <td>Facility Inspection</td>\n",
       "      <td>ERGON West Virginia Inc.</td>\n",
       "      <td>PITMS408</td>\n",
       "      <td>Unique Id</td>\n",
       "      <td>Waterfront Facility</td>\n",
       "      <td>ERGON</td>\n",
       "      <td>Newell</td>\n",
       "      <td>WV</td>\n",
       "      <td>26050</td>\n",
       "      <td>US</td>\n",
       "      <td>40.602222</td>\n",
       "      <td>-80.633610</td>\n",
       "      <td>WV</td>\n",
       "    </tr>\n",
       "    <tr>\n",
       "      <td>2</td>\n",
       "      <td>3658459</td>\n",
       "      <td>2010-01-04</td>\n",
       "      <td>SECTOR OHIO VALLEY (007728)</td>\n",
       "      <td>Facility Inspection</td>\n",
       "      <td>CHEVRON (LOUISVILLE)</td>\n",
       "      <td>LOUMS010</td>\n",
       "      <td>Unique Id</td>\n",
       "      <td>Waterfront Facility</td>\n",
       "      <td>4401 Bells Lane</td>\n",
       "      <td>Louisville</td>\n",
       "      <td>KY</td>\n",
       "      <td>40211</td>\n",
       "      <td>US</td>\n",
       "      <td>38.233333</td>\n",
       "      <td>-85.834163</td>\n",
       "      <td>KY</td>\n",
       "    </tr>\n",
       "    <tr>\n",
       "      <td>3</td>\n",
       "      <td>3658420</td>\n",
       "      <td>2010-01-04</td>\n",
       "      <td>SECTOR OHIO VALLEY (007728)</td>\n",
       "      <td>Facility Inspection</td>\n",
       "      <td>THE GLENMORE DISTILLERY (OWENSBORO)</td>\n",
       "      <td>LOUMS049</td>\n",
       "      <td>Unique Id</td>\n",
       "      <td>Waterfront Facility</td>\n",
       "      <td>2100 Hwy 60 East</td>\n",
       "      <td>Owensboro</td>\n",
       "      <td>KY</td>\n",
       "      <td>42302-1069</td>\n",
       "      <td>US</td>\n",
       "      <td>37.777500</td>\n",
       "      <td>-87.087222</td>\n",
       "      <td>KY</td>\n",
       "    </tr>\n",
       "    <tr>\n",
       "      <td>4</td>\n",
       "      <td>3658272</td>\n",
       "      <td>2010-01-04</td>\n",
       "      <td>MSU PITTSBURGH (007764)</td>\n",
       "      <td>Facility Inspection</td>\n",
       "      <td>Gordon Terminal Service Co</td>\n",
       "      <td>PITMS411</td>\n",
       "      <td>Unique Id</td>\n",
       "      <td>Waterfront Facility</td>\n",
       "      <td>GORDON TERMINAL SERV CO</td>\n",
       "      <td>MCKEES ROCKS</td>\n",
       "      <td>PA</td>\n",
       "      <td>15136</td>\n",
       "      <td>US</td>\n",
       "      <td>40.467778</td>\n",
       "      <td>-80.051115</td>\n",
       "      <td>PA</td>\n",
       "    </tr>\n",
       "  </tbody>\n",
       "</table>\n",
       "</div>"
      ],
      "text/plain": [
       "   Activity ID Activity Start Date       Originating Department  \\\n",
       "0      3658288          2010-01-04      MSU PITTSBURGH (007764)   \n",
       "1      3658584          2010-01-04      MSU PITTSBURGH (007764)   \n",
       "2      3658459          2010-01-04  SECTOR OHIO VALLEY (007728)   \n",
       "3      3658420          2010-01-04  SECTOR OHIO VALLEY (007728)   \n",
       "4      3658272          2010-01-04      MSU PITTSBURGH (007764)   \n",
       "\n",
       "         Activity Type                        Facility Name Primary ID  \\\n",
       "0  Facility Inspection             Neville Chemical Company   PITMS422   \n",
       "1  Facility Inspection             ERGON West Virginia Inc.   PITMS408   \n",
       "2  Facility Inspection                 CHEVRON (LOUISVILLE)   LOUMS010   \n",
       "3  Facility Inspection  THE GLENMORE DISTILLERY (OWENSBORO)   LOUMS049   \n",
       "4  Facility Inspection           Gordon Terminal Service Co   PITMS411   \n",
       "\n",
       "  Primary ID Type        Facility Type         Facility Address          City  \\\n",
       "0       Unique Id  Waterfront Facility        2800 Neville Road    Pittsburgh   \n",
       "1       Unique Id  Waterfront Facility                    ERGON        Newell   \n",
       "2       Unique Id  Waterfront Facility          4401 Bells Lane    Louisville   \n",
       "3       Unique Id  Waterfront Facility         2100 Hwy 60 East     Owensboro   \n",
       "4       Unique Id  Waterfront Facility  GORDON TERMINAL SERV CO  MCKEES ROCKS   \n",
       "\n",
       "  State (Address) Postal Code Country  Facility Latitude  Facility Longitude  \\\n",
       "0              PA       15225      US          40.505700          -80.102710   \n",
       "1              WV       26050      US          40.602222          -80.633610   \n",
       "2              KY       40211      US          38.233333          -85.834163   \n",
       "3              KY  42302-1069      US          37.777500          -87.087222   \n",
       "4              PA       15136      US          40.467778          -80.051115   \n",
       "\n",
       "  State (Physical Location)  \n",
       "0                        PA  \n",
       "1                        WV  \n",
       "2                        KY  \n",
       "3                        KY  \n",
       "4                        PA  "
      ]
     },
     "execution_count": 13,
     "metadata": {},
     "output_type": "execute_result"
    }
   ],
   "source": [
    "fac_data.head()"
   ]
  },
  {
   "cell_type": "code",
   "execution_count": 17,
   "metadata": {},
   "outputs": [
    {
     "data": {
      "text/html": [
       "<div>\n",
       "<style scoped>\n",
       "    .dataframe tbody tr th:only-of-type {\n",
       "        vertical-align: middle;\n",
       "    }\n",
       "\n",
       "    .dataframe tbody tr th {\n",
       "        vertical-align: top;\n",
       "    }\n",
       "\n",
       "    .dataframe thead th {\n",
       "        text-align: right;\n",
       "    }\n",
       "</style>\n",
       "<table border=\"1\" class=\"dataframe\">\n",
       "  <thead>\n",
       "    <tr style=\"text-align: right;\">\n",
       "      <th></th>\n",
       "      <th>Activity ID</th>\n",
       "      <th>Activity Date</th>\n",
       "      <th>Department</th>\n",
       "      <th>Activity Type</th>\n",
       "      <th>Activity Status</th>\n",
       "      <th>Activity Close Date</th>\n",
       "      <th>Activity Duration  (Days)</th>\n",
       "      <th>MISLE Vessel ID</th>\n",
       "      <th>IMO Number</th>\n",
       "      <th>Official Number</th>\n",
       "      <th>Hull Number</th>\n",
       "      <th>Vessel Name</th>\n",
       "      <th>Vessel Class</th>\n",
       "      <th>Vessel Type</th>\n",
       "      <th>Vessel Subtype</th>\n",
       "      <th>Vessel Service</th>\n",
       "      <th>Flag Abbr.</th>\n",
       "      <th>Length</th>\n",
       "      <th>Default Gross Tons</th>\n",
       "      <th>Regulatory Gross Tons</th>\n",
       "      <th>ITC Gross Tons</th>\n",
       "      <th>Inspected</th>\n",
       "      <th>Documented</th>\n",
       "      <th>Latitude</th>\n",
       "      <th>Longitude</th>\n",
       "    </tr>\n",
       "  </thead>\n",
       "  <tbody>\n",
       "    <tr>\n",
       "      <td>0</td>\n",
       "      <td>3662131</td>\n",
       "      <td>2010-01-04</td>\n",
       "      <td>SECTOR OHIO VALLEY (007728)</td>\n",
       "      <td>Vessel Inspection</td>\n",
       "      <td>Closed - Approved Inspection</td>\n",
       "      <td>2010-01-11 14:09:47.000</td>\n",
       "      <td>7.0</td>\n",
       "      <td>338533</td>\n",
       "      <td>NaN</td>\n",
       "      <td>955274.0</td>\n",
       "      <td>89-2001</td>\n",
       "      <td>CHEM 442</td>\n",
       "      <td>Barge</td>\n",
       "      <td>Bulk Liquid Cargo (Tank) Barge</td>\n",
       "      <td>General 2</td>\n",
       "      <td>Tank Barge</td>\n",
       "      <td>US</td>\n",
       "      <td>290.0</td>\n",
       "      <td>1578.0</td>\n",
       "      <td>1578.0</td>\n",
       "      <td>NaN</td>\n",
       "      <td>X</td>\n",
       "      <td>X</td>\n",
       "      <td>35.181770</td>\n",
       "      <td>-90.061980</td>\n",
       "    </tr>\n",
       "    <tr>\n",
       "      <td>1</td>\n",
       "      <td>3662165</td>\n",
       "      <td>2010-01-04</td>\n",
       "      <td>SECTOR OHIO VALLEY (007728)</td>\n",
       "      <td>Vessel Inspection</td>\n",
       "      <td>Closed - Approved Inspection</td>\n",
       "      <td>2010-01-11 14:37:26.000</td>\n",
       "      <td>7.0</td>\n",
       "      <td>467408</td>\n",
       "      <td>NaN</td>\n",
       "      <td>1061148.0</td>\n",
       "      <td>96-2881</td>\n",
       "      <td>CHEM 182</td>\n",
       "      <td>Barge</td>\n",
       "      <td>Bulk Liquid Cargo (Tank) Barge</td>\n",
       "      <td>General 2</td>\n",
       "      <td>Tank Barge</td>\n",
       "      <td>US</td>\n",
       "      <td>195.0</td>\n",
       "      <td>716.0</td>\n",
       "      <td>716.0</td>\n",
       "      <td>NaN</td>\n",
       "      <td>X</td>\n",
       "      <td>X</td>\n",
       "      <td>29.755133</td>\n",
       "      <td>-95.092000</td>\n",
       "    </tr>\n",
       "    <tr>\n",
       "      <td>2</td>\n",
       "      <td>3659470</td>\n",
       "      <td>2010-01-05</td>\n",
       "      <td>SECTOR OHIO VALLEY (007728)</td>\n",
       "      <td>Uninspected Towing Vessel Exam</td>\n",
       "      <td>Closed - Approved Inspection</td>\n",
       "      <td>2010-04-13 13:50:53.999</td>\n",
       "      <td>98.0</td>\n",
       "      <td>953350</td>\n",
       "      <td>NaN</td>\n",
       "      <td>1212363.0</td>\n",
       "      <td>460-85</td>\n",
       "      <td>HARPER E</td>\n",
       "      <td>Towing Vessel</td>\n",
       "      <td>Pushing Ahead (Towboat)</td>\n",
       "      <td>Fleeting</td>\n",
       "      <td>Towing Vessel</td>\n",
       "      <td>US</td>\n",
       "      <td>25.9</td>\n",
       "      <td>21.0</td>\n",
       "      <td>21.0</td>\n",
       "      <td>NaN</td>\n",
       "      <td>NaN</td>\n",
       "      <td>NaN</td>\n",
       "      <td>37.983333</td>\n",
       "      <td>-87.983333</td>\n",
       "    </tr>\n",
       "    <tr>\n",
       "      <td>3</td>\n",
       "      <td>3671453</td>\n",
       "      <td>2010-01-05</td>\n",
       "      <td>SECTOR OHIO VALLEY (007728)</td>\n",
       "      <td>Boarding</td>\n",
       "      <td>Closed - Agency Action Complete</td>\n",
       "      <td>2010-01-28 11:11:18.000</td>\n",
       "      <td>23.0</td>\n",
       "      <td>228855</td>\n",
       "      <td>NaN</td>\n",
       "      <td>563110.0</td>\n",
       "      <td>3437</td>\n",
       "      <td>BARBARA</td>\n",
       "      <td>Towing Vessel</td>\n",
       "      <td>Pushing Ahead (Towboat)</td>\n",
       "      <td>Linehaul</td>\n",
       "      <td>Towing Vessel</td>\n",
       "      <td>US</td>\n",
       "      <td>93.5</td>\n",
       "      <td>237.0</td>\n",
       "      <td>237.0</td>\n",
       "      <td>NaN</td>\n",
       "      <td>NaN</td>\n",
       "      <td>X</td>\n",
       "      <td>38.351667</td>\n",
       "      <td>-85.638333</td>\n",
       "    </tr>\n",
       "    <tr>\n",
       "      <td>4</td>\n",
       "      <td>3671472</td>\n",
       "      <td>2010-01-05</td>\n",
       "      <td>SECTOR OHIO VALLEY (007728)</td>\n",
       "      <td>Boarding</td>\n",
       "      <td>Closed - Agency Action Complete</td>\n",
       "      <td>2010-01-28 11:26:31.000</td>\n",
       "      <td>23.0</td>\n",
       "      <td>143909</td>\n",
       "      <td>NaN</td>\n",
       "      <td>575824.0</td>\n",
       "      <td>NaN</td>\n",
       "      <td>D. &amp; R. BONEY</td>\n",
       "      <td>Towing Vessel</td>\n",
       "      <td>Pushing Ahead (Towboat)</td>\n",
       "      <td>Linehaul</td>\n",
       "      <td>Towing Vessel</td>\n",
       "      <td>US</td>\n",
       "      <td>128.0</td>\n",
       "      <td>483.0</td>\n",
       "      <td>483.0</td>\n",
       "      <td>NaN</td>\n",
       "      <td>NaN</td>\n",
       "      <td>X</td>\n",
       "      <td>38.345000</td>\n",
       "      <td>-85.626667</td>\n",
       "    </tr>\n",
       "  </tbody>\n",
       "</table>\n",
       "</div>"
      ],
      "text/plain": [
       "   Activity ID Activity Date                   Department  \\\n",
       "0      3662131    2010-01-04  SECTOR OHIO VALLEY (007728)   \n",
       "1      3662165    2010-01-04  SECTOR OHIO VALLEY (007728)   \n",
       "2      3659470    2010-01-05  SECTOR OHIO VALLEY (007728)   \n",
       "3      3671453    2010-01-05  SECTOR OHIO VALLEY (007728)   \n",
       "4      3671472    2010-01-05  SECTOR OHIO VALLEY (007728)   \n",
       "\n",
       "                    Activity Type                  Activity Status  \\\n",
       "0               Vessel Inspection     Closed - Approved Inspection   \n",
       "1               Vessel Inspection     Closed - Approved Inspection   \n",
       "2  Uninspected Towing Vessel Exam     Closed - Approved Inspection   \n",
       "3                        Boarding  Closed - Agency Action Complete   \n",
       "4                        Boarding  Closed - Agency Action Complete   \n",
       "\n",
       "      Activity Close Date  Activity Duration  (Days)  MISLE Vessel ID  \\\n",
       "0 2010-01-11 14:09:47.000                        7.0           338533   \n",
       "1 2010-01-11 14:37:26.000                        7.0           467408   \n",
       "2 2010-04-13 13:50:53.999                       98.0           953350   \n",
       "3 2010-01-28 11:11:18.000                       23.0           228855   \n",
       "4 2010-01-28 11:26:31.000                       23.0           143909   \n",
       "\n",
       "   IMO Number  Official Number Hull Number    Vessel Name   Vessel Class  \\\n",
       "0         NaN         955274.0     89-2001       CHEM 442          Barge   \n",
       "1         NaN        1061148.0     96-2881       CHEM 182          Barge   \n",
       "2         NaN        1212363.0      460-85       HARPER E  Towing Vessel   \n",
       "3         NaN         563110.0        3437        BARBARA  Towing Vessel   \n",
       "4         NaN         575824.0         NaN  D. & R. BONEY  Towing Vessel   \n",
       "\n",
       "                      Vessel Type Vessel Subtype Vessel Service Flag Abbr.  \\\n",
       "0  Bulk Liquid Cargo (Tank) Barge      General 2     Tank Barge         US   \n",
       "1  Bulk Liquid Cargo (Tank) Barge      General 2     Tank Barge         US   \n",
       "2         Pushing Ahead (Towboat)       Fleeting  Towing Vessel         US   \n",
       "3         Pushing Ahead (Towboat)       Linehaul  Towing Vessel         US   \n",
       "4         Pushing Ahead (Towboat)       Linehaul  Towing Vessel         US   \n",
       "\n",
       "   Length  Default Gross Tons  Regulatory Gross Tons  ITC Gross Tons  \\\n",
       "0   290.0              1578.0                 1578.0             NaN   \n",
       "1   195.0               716.0                  716.0             NaN   \n",
       "2    25.9                21.0                   21.0             NaN   \n",
       "3    93.5               237.0                  237.0             NaN   \n",
       "4   128.0               483.0                  483.0             NaN   \n",
       "\n",
       "  Inspected Documented   Latitude  Longitude  \n",
       "0         X          X  35.181770 -90.061980  \n",
       "1         X          X  29.755133 -95.092000  \n",
       "2       NaN        NaN  37.983333 -87.983333  \n",
       "3       NaN          X  38.351667 -85.638333  \n",
       "4       NaN          X  38.345000 -85.626667  "
      ]
     },
     "execution_count": 17,
     "metadata": {},
     "output_type": "execute_result"
    }
   ],
   "source": [
    "vessel_data.head()"
   ]
  },
  {
   "cell_type": "code",
   "execution_count": 28,
   "metadata": {},
   "outputs": [
    {
     "data": {
      "text/html": [
       "<div>\n",
       "<style scoped>\n",
       "    .dataframe tbody tr th:only-of-type {\n",
       "        vertical-align: middle;\n",
       "    }\n",
       "\n",
       "    .dataframe tbody tr th {\n",
       "        vertical-align: top;\n",
       "    }\n",
       "\n",
       "    .dataframe thead th {\n",
       "        text-align: right;\n",
       "    }\n",
       "</style>\n",
       "<table border=\"1\" class=\"dataframe\">\n",
       "  <thead>\n",
       "    <tr style=\"text-align: right;\">\n",
       "      <th></th>\n",
       "      <th>Case ID</th>\n",
       "      <th>Activity ID</th>\n",
       "      <th>Activity Date</th>\n",
       "      <th>Originating Department</th>\n",
       "      <th>Owner Department</th>\n",
       "      <th>Controlling Department</th>\n",
       "      <th>Cargo Property Damage</th>\n",
       "      <th>Facility Property Damage</th>\n",
       "      <th>Other Property Damage</th>\n",
       "      <th>Vessel Property Damage</th>\n",
       "      <th>Total Property Damage</th>\n",
       "      <th>Total Persons at Risk</th>\n",
       "      <th>Total Persons Dead</th>\n",
       "      <th>Total Persons Missing</th>\n",
       "      <th>Total Persons Injured</th>\n",
       "      <th>Vessels Actual Total Loss</th>\n",
       "      <th>Vessels Constructive Total Loss</th>\n",
       "      <th>Vessels Damaged</th>\n",
       "      <th>Vessels Undamaged</th>\n",
       "      <th>Level of Investigation</th>\n",
       "      <th>IMO Designation</th>\n",
       "      <th>US Designation</th>\n",
       "      <th>Serious Marine Incident Designation</th>\n",
       "      <th>Latitude</th>\n",
       "      <th>Longitude</th>\n",
       "      <th>Activity Title</th>\n",
       "      <th>Case Title</th>\n",
       "      <th>Incident Involved</th>\n",
       "    </tr>\n",
       "  </thead>\n",
       "  <tbody>\n",
       "    <tr>\n",
       "      <td>0</td>\n",
       "      <td>486351</td>\n",
       "      <td>3673761</td>\n",
       "      <td>2010-01-01</td>\n",
       "      <td>MSU PADUCAH (007766)</td>\n",
       "      <td>COMMANDANT (CG-INV-3) (009107)</td>\n",
       "      <td>COMMANDANT (CG-INV-3) (009107)</td>\n",
       "      <td>0</td>\n",
       "      <td>0</td>\n",
       "      <td>200</td>\n",
       "      <td>1800</td>\n",
       "      <td>2000</td>\n",
       "      <td>0.0</td>\n",
       "      <td>0</td>\n",
       "      <td>0</td>\n",
       "      <td>0</td>\n",
       "      <td>0</td>\n",
       "      <td>0</td>\n",
       "      <td>2</td>\n",
       "      <td>1</td>\n",
       "      <td>Data Collection</td>\n",
       "      <td>Routine</td>\n",
       "      <td>Routine</td>\n",
       "      <td>Not a Serious Marine Incident</td>\n",
       "      <td>37.069980</td>\n",
       "      <td>-88.571300</td>\n",
       "      <td>EMMA KATE Allision</td>\n",
       "      <td>MS Allision/EMMA KATE/ Paducah 37 04.1988 N 08...</td>\n",
       "      <td>Allision</td>\n",
       "    </tr>\n",
       "    <tr>\n",
       "      <td>1</td>\n",
       "      <td>487363</td>\n",
       "      <td>3662467</td>\n",
       "      <td>2010-01-01</td>\n",
       "      <td>MSU HUNTINGTON (007767)</td>\n",
       "      <td>COMMANDANT (CG-INV-3) (009107)</td>\n",
       "      <td>COMMANDANT (CG-INV-3) (009107)</td>\n",
       "      <td>0</td>\n",
       "      <td>0</td>\n",
       "      <td>0</td>\n",
       "      <td>0</td>\n",
       "      <td>0</td>\n",
       "      <td>1.0</td>\n",
       "      <td>0</td>\n",
       "      <td>0</td>\n",
       "      <td>1</td>\n",
       "      <td>0</td>\n",
       "      <td>0</td>\n",
       "      <td>0</td>\n",
       "      <td>2</td>\n",
       "      <td>Informal</td>\n",
       "      <td>Routine</td>\n",
       "      <td>Routine</td>\n",
       "      <td>Serious Marine Incident</td>\n",
       "      <td>38.192972</td>\n",
       "      <td>-81.370418</td>\n",
       "      <td>24HUN10/UTV BILL STILE/INJURY</td>\n",
       "      <td>MS Loss of Life/Injury/BILL STILE/ Pt Pleasant...</td>\n",
       "      <td>Personnel Casualty - Injury</td>\n",
       "    </tr>\n",
       "    <tr>\n",
       "      <td>2</td>\n",
       "      <td>486358</td>\n",
       "      <td>3669435</td>\n",
       "      <td>2010-01-01</td>\n",
       "      <td>MSU PADUCAH (007766)</td>\n",
       "      <td>COMMANDANT (CG-INV-3) (009107)</td>\n",
       "      <td>COMMANDANT (CG-INV-3) (009107)</td>\n",
       "      <td>0</td>\n",
       "      <td>0</td>\n",
       "      <td>0</td>\n",
       "      <td>5000</td>\n",
       "      <td>5000</td>\n",
       "      <td>0.0</td>\n",
       "      <td>0</td>\n",
       "      <td>0</td>\n",
       "      <td>0</td>\n",
       "      <td>0</td>\n",
       "      <td>0</td>\n",
       "      <td>1</td>\n",
       "      <td>1</td>\n",
       "      <td>Data Collection</td>\n",
       "      <td>Routine</td>\n",
       "      <td>Routine</td>\n",
       "      <td>Not a Serious Marine Incident</td>\n",
       "      <td>37.078450</td>\n",
       "      <td>-88.571400</td>\n",
       "      <td>JACK WALKER / Allision</td>\n",
       "      <td>MS Allision/JACK WALKER/ Paducah 37 05.3796 N ...</td>\n",
       "      <td>Allision</td>\n",
       "    </tr>\n",
       "    <tr>\n",
       "      <td>3</td>\n",
       "      <td>487396</td>\n",
       "      <td>3662636</td>\n",
       "      <td>2010-01-02</td>\n",
       "      <td>MSU PITTSBURGH (007764)</td>\n",
       "      <td>COMMANDANT (CG-INV-3) (009107)</td>\n",
       "      <td>COMMANDANT (CG-INV-3) (009107)</td>\n",
       "      <td>0</td>\n",
       "      <td>0</td>\n",
       "      <td>0</td>\n",
       "      <td>500</td>\n",
       "      <td>500</td>\n",
       "      <td>0.0</td>\n",
       "      <td>0</td>\n",
       "      <td>0</td>\n",
       "      <td>0</td>\n",
       "      <td>0</td>\n",
       "      <td>0</td>\n",
       "      <td>1</td>\n",
       "      <td>0</td>\n",
       "      <td>Informal</td>\n",
       "      <td>Routine</td>\n",
       "      <td>Routine</td>\n",
       "      <td>Not a Serious Marine Incident</td>\n",
       "      <td>39.809536</td>\n",
       "      <td>-79.918479</td>\n",
       "      <td>MRT 1902 SINKING CUMBERLAND MINE MONRVR MM 80.5</td>\n",
       "      <td>MS Capsize/ Monongahela River MM 80.5./021630Z...</td>\n",
       "      <td>Material Failure/Malfunction</td>\n",
       "    </tr>\n",
       "    <tr>\n",
       "      <td>4</td>\n",
       "      <td>486798</td>\n",
       "      <td>3659777</td>\n",
       "      <td>2010-01-06</td>\n",
       "      <td>MSU PADUCAH (007766)</td>\n",
       "      <td>COMMANDANT (CG-INV-3) (009107)</td>\n",
       "      <td>COMMANDANT (CG-INV-3) (009107)</td>\n",
       "      <td>0</td>\n",
       "      <td>0</td>\n",
       "      <td>0</td>\n",
       "      <td>500</td>\n",
       "      <td>500</td>\n",
       "      <td>0.0</td>\n",
       "      <td>0</td>\n",
       "      <td>0</td>\n",
       "      <td>0</td>\n",
       "      <td>0</td>\n",
       "      <td>0</td>\n",
       "      <td>1</td>\n",
       "      <td>7</td>\n",
       "      <td>Data Collection</td>\n",
       "      <td>Routine</td>\n",
       "      <td>Routine</td>\n",
       "      <td>Not a Serious Marine Incident</td>\n",
       "      <td>37.682540</td>\n",
       "      <td>-89.513720</td>\n",
       "      <td>CAROL ANN PARSONAGE Break Away / Grounding</td>\n",
       "      <td>MS Breakaway/CAROL ANN PARSONAGE/ 37 40.9524 N...</td>\n",
       "      <td>Grounding</td>\n",
       "    </tr>\n",
       "  </tbody>\n",
       "</table>\n",
       "</div>"
      ],
      "text/plain": [
       "   Case ID  Activity ID Activity Date   Originating Department  \\\n",
       "0   486351      3673761    2010-01-01     MSU PADUCAH (007766)   \n",
       "1   487363      3662467    2010-01-01  MSU HUNTINGTON (007767)   \n",
       "2   486358      3669435    2010-01-01     MSU PADUCAH (007766)   \n",
       "3   487396      3662636    2010-01-02  MSU PITTSBURGH (007764)   \n",
       "4   486798      3659777    2010-01-06     MSU PADUCAH (007766)   \n",
       "\n",
       "                 Owner Department          Controlling Department  \\\n",
       "0  COMMANDANT (CG-INV-3) (009107)  COMMANDANT (CG-INV-3) (009107)   \n",
       "1  COMMANDANT (CG-INV-3) (009107)  COMMANDANT (CG-INV-3) (009107)   \n",
       "2  COMMANDANT (CG-INV-3) (009107)  COMMANDANT (CG-INV-3) (009107)   \n",
       "3  COMMANDANT (CG-INV-3) (009107)  COMMANDANT (CG-INV-3) (009107)   \n",
       "4  COMMANDANT (CG-INV-3) (009107)  COMMANDANT (CG-INV-3) (009107)   \n",
       "\n",
       "   Cargo Property Damage  Facility Property Damage  Other Property Damage  \\\n",
       "0                      0                         0                    200   \n",
       "1                      0                         0                      0   \n",
       "2                      0                         0                      0   \n",
       "3                      0                         0                      0   \n",
       "4                      0                         0                      0   \n",
       "\n",
       "   Vessel Property Damage  Total Property Damage  Total Persons at Risk  \\\n",
       "0                    1800                   2000                    0.0   \n",
       "1                       0                      0                    1.0   \n",
       "2                    5000                   5000                    0.0   \n",
       "3                     500                    500                    0.0   \n",
       "4                     500                    500                    0.0   \n",
       "\n",
       "   Total Persons Dead  Total Persons Missing  Total Persons Injured  \\\n",
       "0                   0                      0                      0   \n",
       "1                   0                      0                      1   \n",
       "2                   0                      0                      0   \n",
       "3                   0                      0                      0   \n",
       "4                   0                      0                      0   \n",
       "\n",
       "   Vessels Actual Total Loss  Vessels Constructive Total Loss  \\\n",
       "0                          0                                0   \n",
       "1                          0                                0   \n",
       "2                          0                                0   \n",
       "3                          0                                0   \n",
       "4                          0                                0   \n",
       "\n",
       "   Vessels Damaged  Vessels Undamaged Level of Investigation IMO Designation  \\\n",
       "0                2                  1        Data Collection         Routine   \n",
       "1                0                  2               Informal         Routine   \n",
       "2                1                  1        Data Collection         Routine   \n",
       "3                1                  0               Informal         Routine   \n",
       "4                1                  7        Data Collection         Routine   \n",
       "\n",
       "  US Designation Serious Marine Incident Designation   Latitude  Longitude  \\\n",
       "0        Routine       Not a Serious Marine Incident  37.069980 -88.571300   \n",
       "1        Routine             Serious Marine Incident  38.192972 -81.370418   \n",
       "2        Routine       Not a Serious Marine Incident  37.078450 -88.571400   \n",
       "3        Routine       Not a Serious Marine Incident  39.809536 -79.918479   \n",
       "4        Routine       Not a Serious Marine Incident  37.682540 -89.513720   \n",
       "\n",
       "                                    Activity Title  \\\n",
       "0                               EMMA KATE Allision   \n",
       "1                    24HUN10/UTV BILL STILE/INJURY   \n",
       "2                           JACK WALKER / Allision   \n",
       "3  MRT 1902 SINKING CUMBERLAND MINE MONRVR MM 80.5   \n",
       "4       CAROL ANN PARSONAGE Break Away / Grounding   \n",
       "\n",
       "                                          Case Title  \\\n",
       "0  MS Allision/EMMA KATE/ Paducah 37 04.1988 N 08...   \n",
       "1  MS Loss of Life/Injury/BILL STILE/ Pt Pleasant...   \n",
       "2  MS Allision/JACK WALKER/ Paducah 37 05.3796 N ...   \n",
       "3  MS Capsize/ Monongahela River MM 80.5./021630Z...   \n",
       "4  MS Breakaway/CAROL ANN PARSONAGE/ 37 40.9524 N...   \n",
       "\n",
       "              Incident Involved  \n",
       "0                      Allision  \n",
       "1   Personnel Casualty - Injury  \n",
       "2                      Allision  \n",
       "3  Material Failure/Malfunction  \n",
       "4                     Grounding  "
      ]
     },
     "execution_count": 28,
     "metadata": {},
     "output_type": "execute_result"
    }
   ],
   "source": [
    "incident_data.head()"
   ]
  },
  {
   "cell_type": "code",
   "execution_count": 30,
   "metadata": {},
   "outputs": [
    {
     "data": {
      "text/html": [
       "<div>\n",
       "<style scoped>\n",
       "    .dataframe tbody tr th:only-of-type {\n",
       "        vertical-align: middle;\n",
       "    }\n",
       "\n",
       "    .dataframe tbody tr th {\n",
       "        vertical-align: top;\n",
       "    }\n",
       "\n",
       "    .dataframe thead th {\n",
       "        text-align: right;\n",
       "    }\n",
       "</style>\n",
       "<table border=\"1\" class=\"dataframe\">\n",
       "  <thead>\n",
       "    <tr style=\"text-align: right;\">\n",
       "      <th></th>\n",
       "      <th>activity_id</th>\n",
       "      <th>incident_brief</th>\n",
       "    </tr>\n",
       "  </thead>\n",
       "  <tbody>\n",
       "    <tr>\n",
       "      <td>0</td>\n",
       "      <td>6670206</td>\n",
       "      <td>Incident Brief Under Review</td>\n",
       "    </tr>\n",
       "    <tr>\n",
       "      <td>1</td>\n",
       "      <td>6636149</td>\n",
       "      <td>Incident Brief Under Review</td>\n",
       "    </tr>\n",
       "    <tr>\n",
       "      <td>2</td>\n",
       "      <td>6635800</td>\n",
       "      <td>Incident Brief Under Review</td>\n",
       "    </tr>\n",
       "    <tr>\n",
       "      <td>3</td>\n",
       "      <td>6634967</td>\n",
       "      <td>Incident Brief Under Review</td>\n",
       "    </tr>\n",
       "    <tr>\n",
       "      <td>4</td>\n",
       "      <td>6617461</td>\n",
       "      <td>Incident Brief Under Review</td>\n",
       "    </tr>\n",
       "  </tbody>\n",
       "</table>\n",
       "</div>"
      ],
      "text/plain": [
       "   activity_id               incident_brief\n",
       "0      6670206  Incident Brief Under Review\n",
       "1      6636149  Incident Brief Under Review\n",
       "2      6635800  Incident Brief Under Review\n",
       "3      6634967  Incident Brief Under Review\n",
       "4      6617461  Incident Brief Under Review"
      ]
     },
     "execution_count": 30,
     "metadata": {},
     "output_type": "execute_result"
    }
   ],
   "source": [
    "scraped_briefs_data.head()"
   ]
  },
  {
   "cell_type": "markdown",
   "metadata": {},
   "source": [
    "Let's join the `incident_data` and the `scraped_briefs_data`."
   ]
  },
  {
   "cell_type": "code",
   "execution_count": 52,
   "metadata": {},
   "outputs": [],
   "source": [
    "incidents_full = incident_data.merge(scraped_briefs_data, how='left', \n",
    "                                     left_on='Activity ID', right_on='activity_id')\n",
    "incidents_full['activity_year'] = incidents_full['Activity Date'].map(lambda x: x.year)\n",
    "serious_incidents = incidents_full.loc[incidents_full['Serious Marine Incident Designation'] == 'Serious Marine Incident']"
   ]
  },
  {
   "cell_type": "code",
   "execution_count": 54,
   "metadata": {},
   "outputs": [
    {
     "data": {
      "text/html": [
       "<div>\n",
       "<style scoped>\n",
       "    .dataframe tbody tr th:only-of-type {\n",
       "        vertical-align: middle;\n",
       "    }\n",
       "\n",
       "    .dataframe tbody tr th {\n",
       "        vertical-align: top;\n",
       "    }\n",
       "\n",
       "    .dataframe thead th {\n",
       "        text-align: right;\n",
       "    }\n",
       "</style>\n",
       "<table border=\"1\" class=\"dataframe\">\n",
       "  <thead>\n",
       "    <tr style=\"text-align: right;\">\n",
       "      <th>activity_year</th>\n",
       "      <th>2010</th>\n",
       "      <th>2011</th>\n",
       "      <th>2012</th>\n",
       "      <th>2013</th>\n",
       "      <th>2014</th>\n",
       "      <th>2015</th>\n",
       "      <th>2016</th>\n",
       "      <th>2017</th>\n",
       "      <th>2018</th>\n",
       "    </tr>\n",
       "    <tr>\n",
       "      <th>Serious Marine Incident Designation</th>\n",
       "      <th></th>\n",
       "      <th></th>\n",
       "      <th></th>\n",
       "      <th></th>\n",
       "      <th></th>\n",
       "      <th></th>\n",
       "      <th></th>\n",
       "      <th></th>\n",
       "      <th></th>\n",
       "    </tr>\n",
       "  </thead>\n",
       "  <tbody>\n",
       "    <tr>\n",
       "      <td>Not a Serious Marine Incident</td>\n",
       "      <td>405</td>\n",
       "      <td>402</td>\n",
       "      <td>379</td>\n",
       "      <td>359</td>\n",
       "      <td>398</td>\n",
       "      <td>336</td>\n",
       "      <td>249</td>\n",
       "      <td>229</td>\n",
       "      <td>334</td>\n",
       "    </tr>\n",
       "    <tr>\n",
       "      <td>Serious Marine Incident</td>\n",
       "      <td>36</td>\n",
       "      <td>40</td>\n",
       "      <td>23</td>\n",
       "      <td>31</td>\n",
       "      <td>35</td>\n",
       "      <td>29</td>\n",
       "      <td>27</td>\n",
       "      <td>36</td>\n",
       "      <td>45</td>\n",
       "    </tr>\n",
       "  </tbody>\n",
       "</table>\n",
       "</div>"
      ],
      "text/plain": [
       "activity_year                        2010  2011  2012  2013  2014  2015  2016  \\\n",
       "Serious Marine Incident Designation                                             \n",
       "Not a Serious Marine Incident         405   402   379   359   398   336   249   \n",
       "Serious Marine Incident                36    40    23    31    35    29    27   \n",
       "\n",
       "activity_year                        2017  2018  \n",
       "Serious Marine Incident Designation              \n",
       "Not a Serious Marine Incident         229   334  \n",
       "Serious Marine Incident                36    45  "
      ]
     },
     "execution_count": 54,
     "metadata": {},
     "output_type": "execute_result"
    }
   ],
   "source": [
    "pd.pivot_table(incidents_full, values='Activity ID', index='Serious Marine Incident Designation',\n",
    "              columns=['activity_year'], aggfunc='count')\n",
    "\n",
    "#('Serious Marine Incident Designation')['Activity ID'].count()"
   ]
  },
  {
   "cell_type": "code",
   "execution_count": 60,
   "metadata": {},
   "outputs": [],
   "source": [
    "serious2018 = serious_incidents.sort_values(['activity_year','Total Property Damage'], ascending=False).head(45)"
   ]
  },
  {
   "cell_type": "code",
   "execution_count": 61,
   "metadata": {},
   "outputs": [
    {
     "data": {
      "text/plain": [
       "3030    NaN\n",
       "Name: incident_brief, dtype: object"
      ]
     },
     "metadata": {},
     "output_type": "display_data"
    },
    {
     "data": {
      "text/plain": [
       "3031    NaN\n",
       "Name: incident_brief, dtype: object"
      ]
     },
     "metadata": {},
     "output_type": "display_data"
    },
    {
     "data": {
      "text/plain": [
       "3376    Incident Brief Under Review\n",
       "Name: incident_brief, dtype: object"
      ]
     },
     "metadata": {},
     "output_type": "display_data"
    },
    {
     "data": {
      "text/plain": [
       "3151    On 13APR2018 at approximately 1500 hrs. the M/V CHARLEY WALLACE( CGB, 1000HP,ON 623276) was doing fleet work at the IL # 13 Fleet RDB MM 980 OHR when they were leaving the fleet downbound maneuvering back into the channel when the Port MDE had a reduction in propulsion and would not go over 700 RPM (Clutch speed). This caused the vessel to become pinned on its Starboard side against the fleet, and the vessel began taking on water and listing to Port. At that time the master came full ahead on the STRB MDE and was able to clear the fleet. The port list of the vessel caused by the intake of water continued, allowing a downflooding condition.  The vessel subsequently sunk approximately 100 ft from the IL # 13 Fleet RDB. All crew was able to exit the vessel in the water and was rescued by an assist vessel. Crewman did not experience any injuries from the incident, however a discharge of oil that created a sheen upon the navigable waters of the United States was observed as the vessel was sinking.  Location of the sunk vessel was marked and salvage plans were initiated.  As of 17JUL18, the vessel was not yet salvaged due to water conditions.  Unknown date as to when the salvage will be complete. Current plans are to refurbish vessel once recovered.\\n\\nCoast Guard investigation revealed the initiating event to be the sinking of the vessel. Contributing factors include 1)Unintended reduction in propulsion at a critical time of vessel operation. 2)High currents and river stage.\n",
       "Name: incident_brief, dtype: object"
      ]
     },
     "metadata": {},
     "output_type": "display_data"
    },
    {
     "data": {
      "text/plain": [
       "3155    At approximately 1105 on 18APR18 the M/V LEXINGTON (Tennessee Valley Towing, 5600 HP, 508204) was pushing 15 loaded barges (7 pig iron, 4 corn, 1 DRI, 1 bauxite, and 2 fly ash) U/B at MM 964 OHR when the head of the tow got caught in the current and pushed to port. The pilot on watch steered to stbd to try and catch the head but a face wire and wing wire broke on the STBD side. Crew attempted to catch more wires on tow but was unsuccessful and tow continued to drift to port as pilot was unsuccessful in stopping the head from swinging to port. Tow made contact with the long wall of Olmsted Lock causing 6 barges to break free of the tow. 4 barges were corraled without incident while 1 barge was pinned up against a construction barge at the Olmstead L&D and 1 barge pressed sideways straddling the #4 and #5 tainter gates at Olmstead L&D and sank.    \\n\\nCoast Guard investigation revealed the initiating event to be the material failure of the tow wires. Contributing factors include 1) Strong currents due to high water. 2) Unknown age/material condition of tow wires in use. 3) Lack of high water experience by pilot.\n",
       "Name: incident_brief, dtype: object"
      ]
     },
     "metadata": {},
     "output_type": "display_data"
    },
    {
     "data": {
      "text/plain": [
       "3387    Incident Brief Under Review\n",
       "Name: incident_brief, dtype: object"
      ]
     },
     "metadata": {},
     "output_type": "display_data"
    },
    {
     "data": {
      "text/plain": [
       "3046    On January 20, 2018, at approximately 2339 central time the barge ING905 was being loaded with coal at Mt. Vernon Transfer Terminal, mile marker 827.9 on the Ohio River. At approximately 2340 one of the barge workers heard water entering into void tanks on the IMG905. The void taking water in was found and attempts were made to put dewatering pumps into the space but were unsuccessful. At 2350 barge ING905 was approximately 88 percent loaded with approximately 3221 tons of coal when it buckled at the center line and began to sink. All workers exited the barge/ loading dock and made it to safety with no injuries. One of the two sections of the barge was able to be tied off to the river bank, while the other section of the barge sank and floated down river before being secured to a mooring cell.\\n\\n\\nThe Coast Guard's investigation found the initiating event was the lack of preventive maintenance on the barge’s structural framing. Also, there was no record of inspection intervals on the hull’s plating, which failed during the on-loading of the coal.\n",
       "Name: incident_brief, dtype: object"
      ]
     },
     "metadata": {},
     "output_type": "display_data"
    },
    {
     "data": {
      "text/plain": [
       "3319    Incident Brief Under Review\n",
       "Name: incident_brief, dtype: object"
      ]
     },
     "metadata": {},
     "output_type": "display_data"
    },
    {
     "data": {
      "text/plain": [
       "3243    Incident Brief Under Review\n",
       "Name: incident_brief, dtype: object"
      ]
     },
     "metadata": {},
     "output_type": "display_data"
    },
    {
     "data": {
      "text/plain": [
       "3263    Incident Brief Under Review\n",
       "Name: incident_brief, dtype: object"
      ]
     },
     "metadata": {},
     "output_type": "display_data"
    },
    {
     "data": {
      "text/plain": [
       "3105    19Mar18; 0005: The UTV RYAN MICHAEL MURRAY  was transiting unbound on the Ohio River in the vicinity of mile marker 85  with 16 loaded coal barges in tow. The vessel's stern got set toward the left descending bank, the pilot attempted  to bring it back around to starboard and was unable to. The second barge in the 2 port strings ran grounded and began taking on water. One of the affected barges hull was punctured by a log in the river bottom. The affected barge began to sink and pulled down the surrounding moored barges along with it. Four barges total were affected. the Towing vessel RYAN M MURRAY remained undamaged.\\n\\nFour affected barges on RYAN M MURRAYs tow were damaged up to $200,000 and $20,000 of coal was unrecoverable. All barges were salvaged and removed from the waterway.\\n\\nAs a result of this investigation, the Coast Guard has determined that the initiating event for this casualty was the grounding of the tow. this was followed by the the second barge in the 2 port string sinking and pulling down its surrounding moored barges. The casual factors that contributed to this casualty include: (1) Misjudged lock Approach and (2)River bottom hazard.\n",
       "Name: incident_brief, dtype: object"
      ]
     },
     "metadata": {},
     "output_type": "display_data"
    },
    {
     "data": {
      "text/plain": [
       "3381    Incident Brief Under Review\n",
       "Name: incident_brief, dtype: object"
      ]
     },
     "metadata": {},
     "output_type": "display_data"
    },
    {
     "data": {
      "text/plain": [
       "3118    At approximately 1740 on March 31, 2018, the towing vessel DIANE B SIEGEL was making a tow at a fleeting area, MM94 on the Ohio River, of 26 dry cargo barges. The Ohio River was in high water and the current was swift. While the vessel was working the fleet the headline of the fleet failed and the 26 barge fleet broke away from the mooring cells. The breakaway barges allided with 07 dry cargo barges at the Shoemaker Fleeting Facility directly down river at MM 93.9 OHR LDB. 02 barges from this facility then crossed the river and allided with 01 crane barge and 01 dry cargo barge at Bellaire Harbor Services dock MM 94 RDB and also allided with their dock. \\n\\nAll barges were caught and secured at a fleeting area. no barges reported damages beyond cosmetic, but the Bellaire harbor Facility received 150,000+ in structural and equipment damage. The DIANE B SIEGEL crew conducted drug and alcohol testing, achieving a negative result.\\n\\nAs a result of this investigation, the Coast Guard has determined that the initiating event for this casualty was the material failure of the mooring lines. this was followed by the barge fleeting breakaway, downriver fleet allison, and across river dry dock allison. The causal factors that contributed to this casualty include: (1)Mooring Lines tensile strength, (2)History of violating barge width on barge fleeting permit, (3)High water and strong river current, (4)Towing vessel pressure on fleet during fleet makeup,  (5)Hourly Fleet checks were an inadequate as a singular defense to detect mooring equipment failure, (6)Inadequate mooring equipment.\n",
       "Name: incident_brief, dtype: object"
      ]
     },
     "metadata": {},
     "output_type": "display_data"
    },
    {
     "data": {
      "text/plain": [
       "3134    Incident Brief Under Review\n",
       "Name: incident_brief, dtype: object"
      ]
     },
     "metadata": {},
     "output_type": "display_data"
    },
    {
     "data": {
      "text/plain": [
       "3194    Incident Brief Under Review\n",
       "Name: incident_brief, dtype: object"
      ]
     },
     "metadata": {},
     "output_type": "display_data"
    },
    {
     "data": {
      "text/plain": [
       "3021    NaN\n",
       "Name: incident_brief, dtype: object"
      ]
     },
     "metadata": {},
     "output_type": "display_data"
    },
    {
     "data": {
      "text/plain": [
       "3026    At approximately 0700 on 11JAN18, crewmember was working on a deckplate in the engine room of the JOHN F SECREST when the deckplate slipped causing a laceration of the crewmembers hand. Crewmember was taken to a local medical facility where he had to have sutures and was given restricted duty.\\n\\nCoast Guard investigation revealed the initiating event to be the injury to the crewmembers hand. Contributing factor includes crewmember's inability to maintain control of the deckplate while working.\n",
       "Name: incident_brief, dtype: object"
      ]
     },
     "metadata": {},
     "output_type": "display_data"
    },
    {
     "data": {
      "text/plain": [
       "3040    While preparing to release tow from fleeting area to head down bound on the Monongahela River at the MM 34.6, a crew member of the UTV SOPHIA KATERIN MURRAY slipped on the ice on a barge, striking his head and upper back on the deck.  Injury resulted in a mild concussion that required treatment beyond first aid.\\n\\nInvestigation found that crewmember was injured due to adverse weather conditions, ice and loosing his balance on the ice.\n",
       "Name: incident_brief, dtype: object"
      ]
     },
     "metadata": {},
     "output_type": "display_data"
    },
    {
     "data": {
      "text/plain": [
       "3047    Crewmember was walking a fleet of crane barges moored at Amherst Madison's Marine Repair Dock at Ohio River mile 266.5 right bank. Crewmember slipped on a patch of ice, lost his footing and fell landing on his right elbow and right side of his body.  Crewmember was transported to a local hospital.\\n\\nMedical reports indicate that no broken bones or severe injury occurred from the fall.  Crewmember spent 3 days in the hospital because the wound to his elbow was not healing properly.\\n\\nIO Note:  Marine Casualty Level of Investigative Effort will remain at the Data Collection Investigation level since there is no determinable value likely to benefit the marine safety industry IAW COMDTINST M16000.10A Part B, Ch. 7, A.2.a.\n",
       "Name: incident_brief, dtype: object"
      ]
     },
     "metadata": {},
     "output_type": "display_data"
    },
    {
     "data": {
      "text/plain": [
       "3051    At approximately 0530 on 26JAN18 the M/V JVESSCO 1 (Tenn. Valley Towing, 582316, 2400HP) was moored at MM 951 LMR (Wickliffe, KY) when a deckhand tripped on deck fittings while boarding the UTV. The crewmember was taken to Health Works Ready Care in Paducah KY where he was diagnosed with a injured ankle. The crewmember was placed on light duty for 04 days. \\n\\nCoast Guard investigation revealed the initiating event to be the injury to the crewmember. Contributing factors include 1) Time of day. 2) Tripping hazards present on deck of vessel.\n",
       "Name: incident_brief, dtype: object"
      ]
     },
     "metadata": {},
     "output_type": "display_data"
    },
    {
     "data": {
      "text/plain": [
       "3062    While making preparations to get a tow underway at MM 93 of the Ohio River, a crew member of the UTV LESLIE NEAL fell, landing on his right hand.  Crewmember sustained a sprained right wrist.  A medical doctor placed crewmember in a no work status and prescribed a prescription pain killer.\\n\\nCause of incident was a loss of situational awareness while carrying cables.\n",
       "Name: incident_brief, dtype: object"
      ]
     },
     "metadata": {},
     "output_type": "display_data"
    },
    {
     "data": {
      "text/plain": [
       "3086    Towing vessel CAPT TOMMY PARRISH was mooring up barge ACL-505 to a fleeting area when the winch failed and the dog handle struck the deckhand's arm between the wrist and elbow. The deckhand was medically evaluated and it was determined that his arm was broken. The deckhand was sent to the hospital for treatment via ambulance and the hospital was unable to conduct a DOT drug test for a SMI. The alcohol test was conducted by the vessels crew via alcohol test strip.\\n\\nThe winch failure was a result of excessive force on the winch due to high river water levels and excessive river water flow.\n",
       "Name: incident_brief, dtype: object"
      ]
     },
     "metadata": {},
     "output_type": "display_data"
    },
    {
     "data": {
      "text/plain": [
       "3113    At approximately 2030 on 26MAR18, as a crewmember of the UTV JAMES H. HUNTER, was conducting tow work at Eddyville Port Authority when he stepped from one barge to another, approx 1' difference in height. As he stepped down, crewmember tripped on a wire, fell foward and caught himself with both hands. His left wrist began to swell and bruise.  Crewmember was directed to a medical facility where the crewmember was diagnosed with \"closed non-displaced fracture\" of the left wrist.\\n\\nCoast Guard investigation determined the initiating event was the fracture of the left wrist. Contributing factors include deckhand's lack of care and awareness as he stepped from barge to barge.\n",
       "Name: incident_brief, dtype: object"
      ]
     },
     "metadata": {},
     "output_type": "display_data"
    },
    {
     "data": {
      "text/plain": [
       "3131    The employee was changing out a barge winch wire on a tow. The employee attempted to pull or jerk the wire through the channel, and could not get it to come loose. The end result was a sharp pain in the lower back and right side to hip thigh. Employee conducted company directed SMI alcohol and drug testing.\n",
       "Name: incident_brief, dtype: object"
      ]
     },
     "metadata": {},
     "output_type": "display_data"
    },
    {
     "data": {
      "text/plain": [
       "3136    Incident Brief Under Review\n",
       "Name: incident_brief, dtype: object"
      ]
     },
     "metadata": {},
     "output_type": "display_data"
    },
    {
     "data": {
      "text/plain": [
       "3150    While working the fleet in Kenova, WV crewmember was struck in the arm by a crank of a winch when it was free spinning.  The winch was free spinning because another crewmemeber released the winch break.  Crewmember suffered a fractured arm.  Crewmember was placed on light duty.\n",
       "Name: incident_brief, dtype: object"
      ]
     },
     "metadata": {},
     "output_type": "display_data"
    },
    {
     "data": {
      "text/plain": [
       "3158    Incident Brief Under Review\n",
       "Name: incident_brief, dtype: object"
      ]
     },
     "metadata": {},
     "output_type": "display_data"
    },
    {
     "data": {
      "text/plain": [
       "3176    UTV WINNIE C (Campbell Transportation, 590109, 2600HP) pushing 15 loaded coal barges (5x3) down bound at MM 134 OHR, and grounded the starboard lead barge into the RDB. The grounding resulted in damage sustained to the starboard lead barge to the extent that it was taking on water. The UTV WINNIE C was able to push the tow across the river near the bank at Williamson Island, outside the channel.\\n\\nInvestigation revealed that the pilot fell asleep while at the helm and was woken up when the lead barges made contact with the bottom of the river near the right descending bank.\n",
       "Name: incident_brief, dtype: object"
      ]
     },
     "metadata": {},
     "output_type": "display_data"
    },
    {
     "data": {
      "text/plain": [
       "3177    On 15MAY18, while carrying a 35' wire aboard the M/V NICKSON, a deckhand caught the wire on a door handle and wrenched his back. Crewmember initially reported only minor pain and refused medical treatment. The next morning, he was still experiencing pain and was taken off the vessel for medical treatment. Crewmember diagnosed with a lumbar strain. He was given a return to work letter with restrictions of no bending and not lifting weights over 15 lbs. No alcohol testing was completed because crewmember initially did not need medical treatment.\\n\\nCoast Guard investigation determined the initiating event to be the injury to the crewmember. Contributing factors include: 1) Loss of situational awareness.\n",
       "Name: incident_brief, dtype: object"
      ]
     },
     "metadata": {},
     "output_type": "display_data"
    },
    {
     "data": {
      "text/plain": [
       "3185    On 25MAY2018, Sector Ohio Valley received a report from the P/V GLORY OF ROME (Horseshoe Casino) in Bridgeport, IN that a passenger missed a step while going down an escalator and fell at 0020 on 24 MAY 18. The passenger was transported to Baptist Floyd Hospital in New Albany, IN for treatment of a cut and contusion to the head.  The injured person received sutures and was released after approximately one hour of treatment.\\n\\nThe CG investigation identified the initiating event as the passenger's attempt to retrieve a shoe that became lodged or wedged between treads of the escalator while descending to a lower deck. As the passenger reach for the shoe and the escalator treads began flattening at the end of passenger travel, the passenger lost their balance, fell and banged their head into the based of the escalator, resulting in injury.\n",
       "Name: incident_brief, dtype: object"
      ]
     },
     "metadata": {},
     "output_type": "display_data"
    },
    {
     "data": {
      "text/plain": [
       "3190    On 04JUN2018 at 0750, the M/V NELL (O.N. 294045, Amherst Madison, 1400 HP) reported that a crewmember was struck in the head by a cheater pipe while working a ratchet on a tow located at MM 267.5 on the Ohio River.  The crewmember was taken to Pleasant Valley Hospital in Point Pleasant, WV.  The crewmember will be replaced.\\n\\nThe investigation revealed that the injured deckhand was not maintaining a safe distance from the highly tensioned ratchet/cheater pipe.\n",
       "Name: incident_brief, dtype: object"
      ]
     },
     "metadata": {},
     "output_type": "display_data"
    },
    {
     "data": {
      "text/plain": [
       "3220    On 28JUN2018 at approximately 1045 local time, the Uninspected Towing Vessel (UTV) USS 4 (ON 267971) was conducting fleet work in the vicinity of mile marker 22 of the Monongahela River.  During the fleeting operations, a deckhand fell into an empty hopper barge sustaining injuries as result.  The injured deckhand was taken by ambulance to Mercy General in Pittsburg PA, where he was evaluated and treated for his injuries.\\n\\nThe deckhand was working with multiple lines connecting multiple barges between themselves and the wharf.  He was holding a line that was subjected to strain that the deckhand failed to anticipate.  As a result, when the line suddenly went taut, the deckhand failed to release the line and was lifted off the deck of the barge (ING2138).  Once airborne, the deckhand was propelled over the coaming of the barges hopper when he lost his grip and fell into the empty hopper and sustained multiple injuries: fractured ribs, fractured hip, and a head injury.\\n\\nAs a result of its investigation, the Coast Guard has determined that the initiating event for this casualty was the deckhands fall into an empty hopper of the barge he was standing on which resulted in injuries.   The casual factor that contributed to this casualty was the deckhand’s inattention to the potential affects (slackening and tautening) of the multiple lines he was working with and around.\\n\\nRecommend this incident investigation be closed with no referral for enforcement.\n",
       "Name: incident_brief, dtype: object"
      ]
     },
     "metadata": {},
     "output_type": "display_data"
    },
    {
     "data": {
      "text/plain": [
       "3226    On 02 July 2018, at approximately 2315 CST, the M/V TENNESSEE (AMHERST MADISON, 6000HP, 502171) was conducting work and transiting D/B at MM 966 OHR LDB when a crewmember was walking from the front of the towboat around the starboard guard to access the starboard side doors to the deck locker. The crew member was temporarily blinded by the vessel's searchlight, but he continued to walk and tripped over starboard wing wire which caused him to break his fibula and tibia in the right lower leg. The crew member was taken off the UTV and driven to CAMDEN Clark Memorial Hospital (Parkersburg, WV) and the crewmember was replaced. DOT Drug and alcohol testing was conducted. \\n\\nThe Coast Guard investigation revealed the IE to be the injury.  Contributing factor includes: (1) Marijuana metabolite present in crew member's system may have contributed to crew member tripping over wire, (2) Crew member temporarily bilnded by search light, (3) Loss of situational awareness.\n",
       "Name: incident_brief, dtype: object"
      ]
     },
     "metadata": {},
     "output_type": "display_data"
    },
    {
     "data": {
      "text/plain": [
       "3237    Incident Brief Under Review\n",
       "Name: incident_brief, dtype: object"
      ]
     },
     "metadata": {},
     "output_type": "display_data"
    },
    {
     "data": {
      "text/plain": [
       "3239    Incident Brief Under Review\n",
       "Name: incident_brief, dtype: object"
      ]
     },
     "metadata": {},
     "output_type": "display_data"
    },
    {
     "data": {
      "text/plain": [
       "3274    Incident Brief Under Review\n",
       "Name: incident_brief, dtype: object"
      ]
     },
     "metadata": {},
     "output_type": "display_data"
    },
    {
     "data": {
      "text/plain": [
       "3283    Incident Brief Under Review\n",
       "Name: incident_brief, dtype: object"
      ]
     },
     "metadata": {},
     "output_type": "display_data"
    },
    {
     "data": {
      "text/plain": [
       "3305    Incident Brief Under Review\n",
       "Name: incident_brief, dtype: object"
      ]
     },
     "metadata": {},
     "output_type": "display_data"
    },
    {
     "data": {
      "text/plain": [
       "3307    Incident Brief Under Review\n",
       "Name: incident_brief, dtype: object"
      ]
     },
     "metadata": {},
     "output_type": "display_data"
    },
    {
     "data": {
      "text/plain": [
       "3323    Incident Brief Under Review\n",
       "Name: incident_brief, dtype: object"
      ]
     },
     "metadata": {},
     "output_type": "display_data"
    },
    {
     "data": {
      "text/plain": [
       "3335    Incident Brief Under Review\n",
       "Name: incident_brief, dtype: object"
      ]
     },
     "metadata": {},
     "output_type": "display_data"
    },
    {
     "data": {
      "text/plain": [
       "3340    Incident Brief Under Review\n",
       "Name: incident_brief, dtype: object"
      ]
     },
     "metadata": {},
     "output_type": "display_data"
    },
    {
     "data": {
      "text/plain": [
       "3359    Incident Brief Under Review\n",
       "Name: incident_brief, dtype: object"
      ]
     },
     "metadata": {},
     "output_type": "display_data"
    },
    {
     "data": {
      "text/plain": [
       "3366    Incident Brief Under Review\n",
       "Name: incident_brief, dtype: object"
      ]
     },
     "metadata": {},
     "output_type": "display_data"
    },
    {
     "data": {
      "text/plain": [
       "3373    Incident Brief Under Review\n",
       "Name: incident_brief, dtype: object"
      ]
     },
     "metadata": {},
     "output_type": "display_data"
    }
   ],
   "source": [
    "pd.set_option('display.max_colwidth', -1)\n",
    "\n",
    "for activity_id in serious2018['Activity ID'].tolist():\n",
    "    display(incidents_full[incidents_full['Activity ID'] == activity_id].incident_brief)\n"
   ]
  },
  {
   "cell_type": "code",
   "execution_count": null,
   "metadata": {},
   "outputs": [],
   "source": []
  }
 ],
 "metadata": {
  "kernelspec": {
   "display_name": "Python 3",
   "language": "python",
   "name": "python3"
  },
  "language_info": {
   "codemirror_mode": {
    "name": "ipython",
    "version": 3
   },
   "file_extension": ".py",
   "mimetype": "text/x-python",
   "name": "python",
   "nbconvert_exporter": "python",
   "pygments_lexer": "ipython3",
   "version": "3.7.4"
  }
 },
 "nbformat": 4,
 "nbformat_minor": 4
}
